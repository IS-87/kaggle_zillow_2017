{
 "cells": [
  {
   "cell_type": "code",
   "execution_count": 1,
   "metadata": {
    "collapsed": true
   },
   "outputs": [],
   "source": [
    "import math\n",
    "import pandas as pd\n",
    "import numpy as np\n",
    "import matplotlib.pyplot as plt\n",
    "%matplotlib inline"
   ]
  },
  {
   "cell_type": "code",
   "execution_count": 2,
   "metadata": {
    "collapsed": true
   },
   "outputs": [],
   "source": [
    "train_Y = pd.read_csv(\"train_2016_v2.csv\", index_col = 'parcelid')\n",
    "train_Y = train_Y[~train_Y.index.duplicated(keep='first')]"
   ]
  },
  {
   "cell_type": "code",
   "execution_count": 73,
   "metadata": {},
   "outputs": [
    {
     "name": "stderr",
     "output_type": "stream",
     "text": [
      "C:\\Users\\Ivan\\Anaconda3\\lib\\site-packages\\numpy\\lib\\arraysetops.py:395: FutureWarning: elementwise comparison failed; returning scalar instead, but in the future will perform elementwise comparison\n",
      "  mask |= (ar1 == a)\n"
     ]
    }
   ],
   "source": [
    "allX = pd.read_csv(\"properties_2016.csv\", dtype={\"hashottuborspa\": bool, \"propertycountylandusecode\": str,\\\n",
    "                                                    \"propertyzoningdesc\": str, \"fireplaceflag\": bool,\\\n",
    "                                                   \"taxdelinquencyflag\": str}, index_col = 'parcelid')"
   ]
  },
  {
   "cell_type": "code",
   "execution_count": 4,
   "metadata": {
    "collapsed": true
   },
   "outputs": [],
   "source": [
    "train_X = allX.loc[train_Y.index]"
   ]
  },
  {
   "cell_type": "code",
   "execution_count": 5,
   "metadata": {
    "collapsed": true
   },
   "outputs": [],
   "source": [
    "def createDataSets():\n",
    "    dataSets = {}\n",
    "    # dataSets_Y = {}\n",
    "    for x in train_X.columns[1:]:\n",
    "        currentSeriesX = train_X[x].dropna()\n",
    "        currentSeriesY = train_Y.loc[currentSeriesX.index]['logerror']\n",
    "        dataSets[\"{0}\".format(x)] = pd.DataFrame(currentSeriesX).join(pd.DataFrame(currentSeriesY))\n",
    "    return dataSets"
   ]
  },
  {
   "cell_type": "code",
   "execution_count": 6,
   "metadata": {
    "collapsed": true
   },
   "outputs": [],
   "source": [
    "dataSets = createDataSets()"
   ]
  },
  {
   "cell_type": "code",
   "execution_count": 8,
   "metadata": {},
   "outputs": [
    {
     "name": "stdout",
     "output_type": "stream",
     "text": [
      "0.011417672767609062\n",
      "0.16097460590078036\n"
     ]
    }
   ],
   "source": [
    "actualMean = np.mean(train_Y['logerror'])\n",
    "actualStdDev = np.std(train_Y['logerror'])\n",
    "print(actualMean)\n",
    "print(actualStdDev)"
   ]
  },
  {
   "cell_type": "code",
   "execution_count": 9,
   "metadata": {
    "collapsed": true
   },
   "outputs": [],
   "source": [
    "avgErrorDeltas = {}\n",
    "for key in dataSets:\n",
    "    if dataSets[key][key].dtype == 'float64':\n",
    "        avgErrorDeltas[key] = np.mean(dataSets[key]['logerror']) - actualMean\n",
    "    else:\n",
    "        pass"
   ]
  },
  {
   "cell_type": "code",
   "execution_count": 63,
   "metadata": {
    "collapsed": true
   },
   "outputs": [],
   "source": [
    "avgErrorDF = pd.DataFrame.from_dict(avgErrorDeltas, orient='index')"
   ]
  },
  {
   "cell_type": "code",
   "execution_count": 11,
   "metadata": {},
   "outputs": [
    {
     "name": "stderr",
     "output_type": "stream",
     "text": [
      "C:\\Users\\Ivan\\Anaconda3\\lib\\site-packages\\numpy\\lib\\arraysetops.py:395: FutureWarning: elementwise comparison failed; returning scalar instead, but in the future will perform elementwise comparison\n",
      "  mask |= (ar1 == a)\n"
     ]
    }
   ],
   "source": [
    "submission = pd.read_csv(\"sample_submission.csv\", index_col='ParcelId')"
   ]
  },
  {
   "cell_type": "code",
   "execution_count": 12,
   "metadata": {
    "collapsed": true
   },
   "outputs": [],
   "source": [
    "np.random.seed(777)\n",
    "predictions = np.random.normal(actualMean, actualStdDev, len(submission))\n",
    "predictions = predictions.round(4)"
   ]
  },
  {
   "cell_type": "code",
   "execution_count": 13,
   "metadata": {
    "collapsed": true
   },
   "outputs": [],
   "source": [
    "for cols in submission.columns[1:]:\n",
    "    submission[cols] = predictions"
   ]
  },
  {
   "cell_type": "code",
   "execution_count": 75,
   "metadata": {},
   "outputs": [
    {
     "name": "stdout",
     "output_type": "stream",
     "text": [
      "airconditioningtypeid\n",
      "hashottuborspa\n",
      "propertycountylandusecode\n",
      "propertyzoningdesc\n",
      "fireplaceflag\n",
      "taxdelinquencyflag\n"
     ]
    }
   ],
   "source": [
    "#%%timeit\n",
    "for cols in allX.columns:\n",
    "    #print(cols)\n",
    "    try:\n",
    "        allX.loc[allX[cols] > -200000000, cols] = avgErrorDeltas[cols]\n",
    "    except KeyError:\n",
    "        print(cols)"
   ]
  },
  {
   "cell_type": "code",
   "execution_count": 78,
   "metadata": {
    "collapsed": true
   },
   "outputs": [],
   "source": [
    "allX['sum'] = allX.sum(axis=1)"
   ]
  },
  {
   "cell_type": "code",
   "execution_count": 80,
   "metadata": {},
   "outputs": [],
   "source": [
    "cachedAllXSum = allX['sum']\n",
    "cachedAllXSum.to_csv(\"cachedSum.csv\")"
   ]
  },
  {
   "cell_type": "code",
   "execution_count": 82,
   "metadata": {},
   "outputs": [],
   "source": [
    "try:\n",
    "    allX['result'] = allX['sum'] + predictions\n",
    "except TypeError:\n",
    "    pass"
   ]
  },
  {
   "cell_type": "code",
   "execution_count": 92,
   "metadata": {
    "collapsed": true
   },
   "outputs": [],
   "source": [
    "for cols in submission.columns:\n",
    "    submission[cols] = allX['result']"
   ]
  },
  {
   "cell_type": "code",
   "execution_count": null,
   "metadata": {},
   "outputs": [],
   "source": [
    "submission.round(4)"
   ]
  },
  {
   "cell_type": "code",
   "execution_count": 95,
   "metadata": {
    "collapsed": true
   },
   "outputs": [],
   "source": [
    "submission.to_csv(\"submission2.csv\")"
   ]
  },
  {
   "cell_type": "code",
   "execution_count": null,
   "metadata": {
    "collapsed": true
   },
   "outputs": [],
   "source": []
  }
 ],
 "metadata": {
  "kernelspec": {
   "display_name": "Python 3",
   "language": "python",
   "name": "python3"
  },
  "language_info": {
   "codemirror_mode": {
    "name": "ipython",
    "version": 3
   },
   "file_extension": ".py",
   "mimetype": "text/x-python",
   "name": "python",
   "nbconvert_exporter": "python",
   "pygments_lexer": "ipython3",
   "version": "3.5.3"
  }
 },
 "nbformat": 4,
 "nbformat_minor": 2
}
